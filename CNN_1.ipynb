{
  "nbformat": 4,
  "nbformat_minor": 0,
  "metadata": {
    "colab": {
      "provenance": [],
      "gpuType": "T4"
    },
    "kernelspec": {
      "name": "python3",
      "display_name": "Python 3"
    },
    "language_info": {
      "name": "python"
    },
    "accelerator": "GPU"
  },
  "cells": [
    {
      "cell_type": "code",
      "execution_count": null,
      "metadata": {
        "id": "mOfQnJCWLBJA"
      },
      "outputs": [],
      "source": [
        "import numpy as np\n",
        "import pandas as pd\n",
        "import keras\n",
        "import tensorflow as tf\n"
      ]
    },
    {
      "cell_type": "code",
      "source": [
        "import tensorflow as tf\n",
        "from tensorflow.python.client import device_lib\n",
        "print(device_lib.list_local_devices())"
      ],
      "metadata": {
        "colab": {
          "base_uri": "https://localhost:8080/"
        },
        "id": "KwntGyicLl5h",
        "outputId": "1566085b-8bef-4027-c79b-8e7463f40ac5"
      },
      "execution_count": null,
      "outputs": [
        {
          "output_type": "stream",
          "name": "stdout",
          "text": [
            "[name: \"/device:CPU:0\"\n",
            "device_type: \"CPU\"\n",
            "memory_limit: 268435456\n",
            "locality {\n",
            "}\n",
            "incarnation: 15436208246899220642\n",
            "xla_global_id: -1\n",
            ", name: \"/device:GPU:0\"\n",
            "device_type: \"GPU\"\n",
            "memory_limit: 14357954560\n",
            "locality {\n",
            "  bus_id: 1\n",
            "  links {\n",
            "  }\n",
            "}\n",
            "incarnation: 17014731928627042790\n",
            "physical_device_desc: \"device: 0, name: Tesla T4, pci bus id: 0000:00:04.0, compute capability: 7.5\"\n",
            "xla_global_id: 416903419\n",
            "]\n"
          ]
        }
      ]
    },
    {
      "cell_type": "code",
      "source": [
        "from google.colab import drive\n",
        "drive.mount('/content/drive')"
      ],
      "metadata": {
        "id": "8_KaPTclYBDf"
      },
      "execution_count": null,
      "outputs": []
    },
    {
      "cell_type": "code",
      "source": [
        "from keras.datasets import mnist\n",
        "(x_train,y_train),(x_test,y_test)=mnist.load_data()\n",
        "\n"
      ],
      "metadata": {
        "colab": {
          "base_uri": "https://localhost:8080/"
        },
        "id": "SyE-g3ZEMJnX",
        "outputId": "c6cb4433-f58a-47e1-9a0b-bb54b9f2c11f"
      },
      "execution_count": null,
      "outputs": [
        {
          "output_type": "stream",
          "name": "stdout",
          "text": [
            "Downloading data from https://storage.googleapis.com/tensorflow/tf-keras-datasets/mnist.npz\n",
            "11490434/11490434 [==============================] - 0s 0us/step\n"
          ]
        }
      ]
    },
    {
      "cell_type": "code",
      "source": [
        "import matplotlib.pyplot as plt\n",
        "n=10\n",
        "plt.figure(figsize=(20,4))\n",
        "for i in range(n):\n",
        "  ax=plt.subplot(2,n,i+1)\n",
        "  plt.imshow(x_test[i].reshape(28,28))\n",
        "  plt.gray()\n",
        "  ax.get_xaxis().set_visible(False)\n",
        "  ax.get_yaxis().set_visible(False)\n",
        "  plt.show()\n",
        "  plt.close()"
      ],
      "metadata": {
        "colab": {
          "base_uri": "https://localhost:8080/",
          "height": 726
        },
        "id": "f1OidjslNlUp",
        "outputId": "5a456d3a-7455-42c4-93a4-801c71d1ff69"
      },
      "execution_count": null,
      "outputs": [
        {
          "output_type": "display_data",
          "data": {
            "text/plain": [
              "<Figure size 2000x400 with 1 Axes>"
            ],
            "image/png": "[encoded data removed]"
          },
          "metadata": {}
        },
        {
          "output_type": "display_data",
          "data": {
            "text/plain": [
              "<Figure size 640x480 with 1 Axes>"
            ],
            "image/png": "[encoded data removed]"
          },
          "metadata": {}
        },
        {
          "output_type": "display_data",
          "data": {
            "text/plain": [
              "<Figure size 640x480 with 1 Axes>"
            ],
            "image/png": "[encoded data removed]"
          },
          "metadata": {}
        },
        {
          "output_type": "display_data",
          "data": {
            "text/plain": [
              "<Figure size 640x480 with 1 Axes>"
            ],
            "image/png": "[encoded data removed]"
          },
          "metadata": {}
        },
        {
          "output_type": "display_data",
          "data": {
            "text/plain": [
              "<Figure size 640x480 with 1 Axes>"
            ],
            "image/png": "[encoded data removed]"
          },
          "metadata": {}
        },
        {
          "output_type": "display_data",
          "data": {
            "text/plain": [
              "<Figure size 640x480 with 1 Axes>"
            ],
            "image/png": "[encoded data removed]"
          },
          "metadata": {}
        },
        {
          "output_type": "display_data",
          "data": {
            "text/plain": [
              "<Figure size 640x480 with 1 Axes>"
            ],
            "image/png": "[encoded data removed]"
          },
          "metadata": {}
        },
        {
          "output_type": "display_data",
          "data": {
            "text/plain": [
              "<Figure size 640x480 with 1 Axes>"
            ],
            "image/png": "[encoded data removed]"
          },
          "metadata": {}
        },
        {
          "output_type": "display_data",
          "data": {
            "text/plain": [
              "<Figure size 640x480 with 1 Axes>"
            ],
            "image/png": "[encoded data removed]"
          },
          "metadata": {}
        },
        {
          "output_type": "display_data",
          "data": {
            "text/plain": [
              "<Figure size 640x480 with 1 Axes>"
            ],
            "image/png": "[encoded data removed]"
          },
          "metadata": {}
        }
      ]
    },
    {
      "cell_type": "code",
      "source": [
        "print(\"x_train shape:\",x_train.shape)\n",
        "print(\"y_train.shape:\",y_train.shape)\n",
        "print(\"x_test shape:\",x_test.shape)\n",
        "print(\"y_test shape:\",y_test.shape)"
      ],
      "metadata": {
        "colab": {
          "base_uri": "https://localhost:8080/"
        },
        "id": "qnzaS4ZPQsx8",
        "outputId": "5c8497f4-6ac8-4a27-8b51-a843495aa07a"
      },
      "execution_count": null,
      "outputs": [
        {
          "output_type": "stream",
          "name": "stdout",
          "text": [
            "x_train shape: (60000, 28, 28)\n",
            "y_train.shape: (60000,)\n",
            "x_test shape: (10000, 28, 28)\n",
            "y_test shape: (10000,)\n"
          ]
        }
      ]
    },
    {
      "cell_type": "code",
      "source": [
        "x_train=x_train.reshape(x_train.shape[0],28,28,1)\n",
        "x_test=x_test.reshape(x_test.shape[0],28,28,1)"
      ],
      "metadata": {
        "id": "OivxJJWiRyGa"
      },
      "execution_count": null,
      "outputs": []
    },
    {
      "cell_type": "code",
      "source": [
        "x_train=x_train.astype(\"float32\")\n",
        "x_test=x_test.astype(\"float32\")\n",
        "x_train/=255\n",
        "x_test/=255"
      ],
      "metadata": {
        "id": "2T1VzLSGSyk5"
      },
      "execution_count": null,
      "outputs": []
    },
    {
      "cell_type": "code",
      "source": [
        "from keras.utils import to_categorical\n",
        "y_train=to_categorical(y_train,num_classes=10)\n",
        "y_test=to_categorical(y_test,num_classes=10)\n",
        "print(\"x_train shape:\",x_train.shape)\n",
        "print(\"y_train shape:\",y_train.shape)\n",
        "print(\"x_test shape:\",x_test.shape)\n",
        "print(\"y_test shape:\",y_test.shape)\n"
      ],
      "metadata": {
        "colab": {
          "base_uri": "https://localhost:8080/"
        },
        "id": "QbO1kF-fTv33",
        "outputId": "ac6c623e-f320-4ca9-a5e1-2a2d7d23aeb9"
      },
      "execution_count": null,
      "outputs": [
        {
          "output_type": "stream",
          "name": "stdout",
          "text": [
            "x_train shape: (60000, 28, 28, 1)\n",
            "y_train shape: (60000, 10)\n",
            "x_test shape: (10000, 28, 28, 1)\n",
            "y_test shape: (10000, 10)\n"
          ]
        }
      ]
    },
    {
      "cell_type": "code",
      "source": [
        "from tensorflow.keras.models import Sequential\n",
        "from tensorflow.keras.layers import Dense, Flatten\n",
        "from tensorflow.keras.layers import Conv2D, MaxPooling2D\n"
      ],
      "metadata": {
        "id": "bwR3eGkWWwoe"
      },
      "execution_count": null,
      "outputs": []
    },
    {
      "cell_type": "code",
      "source": [
        "img_rows,img_cols,channels=28,28,1\n",
        "filters=[6,32,80,120]\n",
        "classes=10"
      ],
      "metadata": {
        "id": "p_qfO-_3Y1n4"
      },
      "execution_count": null,
      "outputs": []
    },
    {
      "cell_type": "code",
      "source": [
        "# Creating Model\n",
        "\n",
        "model=Sequential() #Sequential is a container to store layers\n",
        "model.add(Conv2D(filters[0],(3,3),padding='same',\\\n",
        "                 activation='relu',input_shape=(img_rows,img_cols, channels)))\n",
        "model.add(MaxPooling2D(pool_size=(2,2))) #For reducing image size\n",
        "# (dim+pad-kernel)/2   (28 +3 -3)/2 = 14\n",
        "model.add(Conv2D(filters[1],(2,2),padding='same', activation='relu'))\n",
        "model.add(MaxPooling2D(pool_size=(2,2)))\n",
        "# (dim+pad-kernel)/2   (14 +2 -2)/2 = 7\n",
        "model.add(Conv2D(filters[2],(2,2),padding='same', activation='relu'))\n",
        "model.add(MaxPooling2D(pool_size=(2,2)))\n",
        "# (dim+pad-kernel)/2   (7 +2 -2)/2 = 3\n",
        "model.add(Conv2D(filters[3],(2,2),padding='same', activation='relu'))\n",
        "model.add(MaxPooling2D(pool_size=(2,2)))\n",
        "# (dim+pad-kernel)/2   (3 +2 -2)/2 = 1\n",
        "model.add(Flatten())\n",
        "model.add(Dense(64,activation='relu'))\n",
        "model.add(Dense(classes, activation='softmax'))\n",
        "model.compile(loss='categorical_crossentropy', optimizer='sgd', metrics=['accuracy'])"
      ],
      "metadata": {
        "id": "rrArRD2AZxKo"
      },
      "execution_count": null,
      "outputs": []
    },
    {
      "cell_type": "code",
      "source": [
        "model.summary()"
      ],
      "metadata": {
        "colab": {
          "base_uri": "https://localhost:8080/"
        },
        "id": "KUc6i69l8imB",
        "outputId": "74a7c04c-e46e-4fcf-ee66-285410aef370"
      },
      "execution_count": null,
      "outputs": [
        {
          "output_type": "stream",
          "name": "stdout",
          "text": [
            "Model: \"sequential\"\n",
            "_________________________________________________________________\n",
            " Layer (type)                Output Shape              Param #   \n",
            "=================================================================\n",
            " conv2d (Conv2D)             (None, 28, 28, 6)         60        \n",
            "                                                                 \n",
            " max_pooling2d (MaxPooling2  (None, 14, 14, 6)         0         \n",
            " D)                                                              \n",
            "                                                                 \n",
            " conv2d_1 (Conv2D)           (None, 14, 14, 32)        800       \n",
            "                                                                 \n",
            " max_pooling2d_1 (MaxPoolin  (None, 7, 7, 32)          0         \n",
            " g2D)                                                            \n",
            "                                                                 \n",
            " conv2d_2 (Conv2D)           (None, 7, 7, 80)          10320     \n",
            "                                                                 \n",
            " max_pooling2d_2 (MaxPoolin  (None, 3, 3, 80)          0         \n",
            " g2D)                                                            \n",
            "                                                                 \n",
            " conv2d_3 (Conv2D)           (None, 3, 3, 120)         38520     \n",
            "                                                                 \n",
            " max_pooling2d_3 (MaxPoolin  (None, 1, 1, 120)         0         \n",
            " g2D)                                                            \n",
            "                                                                 \n",
            " flatten (Flatten)           (None, 120)               0         \n",
            "                                                                 \n",
            " dense (Dense)               (None, 64)                7744      \n",
            "                                                                 \n",
            " dense_1 (Dense)             (None, 10)                650       \n",
            "                                                                 \n",
            "=================================================================\n",
            "Total params: 58094 (226.93 KB)\n",
            "Trainable params: 58094 (226.93 KB)\n",
            "Non-trainable params: 0 (0.00 Byte)\n",
            "_________________________________________________________________\n"
          ]
        }
      ]
    },
    {
      "cell_type": "markdown",
      "source": [
        "## **training of** **CNN**"
      ],
      "metadata": {
        "id": "Wggh3hho-y52"
      }
    },
    {
      "cell_type": "code",
      "source": [
        "model.fit(x_train,y_train,validation_split=0.2,epochs=15,batch_size=64,verbose=1)"
      ],
      "metadata": {
        "colab": {
          "base_uri": "https://localhost:8080/"
        },
        "id": "pY9x6jH0-uLz",
        "outputId": "227bae31-9245-4d73-9a9e-34811afb7d32"
      },
      "execution_count": null,
      "outputs": [
        {
          "output_type": "stream",
          "name": "stdout",
          "text": [
            "Epoch 1/15\n",
            "750/750 [==============================] - 13s 6ms/step - loss: 2.2116 - accuracy: 0.3145 - val_loss: 1.7565 - val_accuracy: 0.6093\n",
            "Epoch 2/15\n",
            "750/750 [==============================] - 4s 6ms/step - loss: 0.7185 - accuracy: 0.7885 - val_loss: 0.3629 - val_accuracy: 0.8834\n",
            "Epoch 3/15\n",
            "750/750 [==============================] - 4s 5ms/step - loss: 0.2631 - accuracy: 0.9188 - val_loss: 0.1840 - val_accuracy: 0.9432\n",
            "Epoch 4/15\n",
            "750/750 [==============================] - 4s 5ms/step - loss: 0.1746 - accuracy: 0.9464 - val_loss: 0.1400 - val_accuracy: 0.9567\n",
            "Epoch 5/15\n",
            "750/750 [==============================] - 4s 6ms/step - loss: 0.1347 - accuracy: 0.9577 - val_loss: 0.1615 - val_accuracy: 0.9500\n",
            "Epoch 6/15\n",
            "750/750 [==============================] - 4s 5ms/step - loss: 0.1135 - accuracy: 0.9640 - val_loss: 0.1002 - val_accuracy: 0.9682\n",
            "Epoch 7/15\n",
            "750/750 [==============================] - 4s 5ms/step - loss: 0.0977 - accuracy: 0.9684 - val_loss: 0.1136 - val_accuracy: 0.9643\n",
            "Epoch 8/15\n",
            "750/750 [==============================] - 5s 6ms/step - loss: 0.0854 - accuracy: 0.9724 - val_loss: 0.0974 - val_accuracy: 0.9701\n",
            "Epoch 9/15\n",
            "750/750 [==============================] - 4s 5ms/step - loss: 0.0768 - accuracy: 0.9756 - val_loss: 0.0724 - val_accuracy: 0.9778\n",
            "Epoch 10/15\n",
            "750/750 [==============================] - 4s 5ms/step - loss: 0.0700 - accuracy: 0.9778 - val_loss: 0.0678 - val_accuracy: 0.9788\n",
            "Epoch 11/15\n",
            "750/750 [==============================] - 5s 7ms/step - loss: 0.0635 - accuracy: 0.9797 - val_loss: 0.0754 - val_accuracy: 0.9758\n",
            "Epoch 12/15\n",
            "750/750 [==============================] - 4s 5ms/step - loss: 0.0593 - accuracy: 0.9810 - val_loss: 0.0641 - val_accuracy: 0.9802\n",
            "Epoch 13/15\n",
            "750/750 [==============================] - 4s 5ms/step - loss: 0.0539 - accuracy: 0.9824 - val_loss: 0.0681 - val_accuracy: 0.9796\n",
            "Epoch 14/15\n",
            "750/750 [==============================] - 5s 7ms/step - loss: 0.0512 - accuracy: 0.9835 - val_loss: 0.0599 - val_accuracy: 0.9807\n",
            "Epoch 15/15\n",
            "750/750 [==============================] - 4s 5ms/step - loss: 0.0486 - accuracy: 0.9841 - val_loss: 0.0573 - val_accuracy: 0.9821\n"
          ]
        },
        {
          "output_type": "execute_result",
          "data": {
            "text/plain": [
              "<keras.src.callbacks.History at 0x7ce52b4e0970>"
            ]
          },
          "metadata": {},
          "execution_count": 16
        }
      ]
    },
    {
      "cell_type": "markdown",
      "source": [
        "# **Testing the model**"
      ],
      "metadata": {
        "id": "YZzzmtSN-xle"
      }
    },
    {
      "cell_type": "code",
      "source": [
        "from sklearn.metrics import accuracy_score\n",
        "import numpy as np\n",
        "import matplotlib.pyplot as plt\n",
        "y_pred_probs=model.predict(x_test,verbose=0)\n",
        "y_pred=np.where(y_pred_probs>0.5,1,0)\n",
        "test_accuracy=accuracy_score(y_pred,y_test)\n",
        "print(\"\\n  test accuracy: {}\".format(test_accuracy))\n"
      ],
      "metadata": {
        "colab": {
          "base_uri": "https://localhost:8080/"
        },
        "id": "oaVdVXZK_fHs",
        "outputId": "f5ed596f-6ca8-46f4-fdda-346ea9db8999"
      },
      "execution_count": null,
      "outputs": [
        {
          "output_type": "stream",
          "name": "stdout",
          "text": [
            "\n",
            "  test accuracy: 0.9828\n"
          ]
        }
      ]
    },
    {
      "cell_type": "code",
      "source": [
        "mask=range(20,50)\n",
        "X_valid=x_test[20:40]\n",
        "actual_labels=y_test[20:40]\n",
        "y_pred_probs_valid=model.predict(X_valid)\n",
        "y_pred_valid=np.where(y_pred_probs_valid>0.5,1,0)"
      ],
      "metadata": {
        "colab": {
          "base_uri": "https://localhost:8080/"
        },
        "id": "uNuFMxQBA8bw",
        "outputId": "c8937d57-6704-4217-c461-d042131da3e1"
      },
      "execution_count": null,
      "outputs": [
        {
          "output_type": "stream",
          "name": "stdout",
          "text": [
            "1/1 [==============================] - 0s 131ms/step\n"
          ]
        }
      ]
    },
    {
      "cell_type": "code",
      "source": [
        "n=len(X_valid)\n",
        "plt.figure(figsize=(20,4))\n",
        "for i in range(n):\n",
        "  ax=plt.subplot(2,n,i+1)\n",
        "  plt.imshow(X_valid[i].reshape(28,28))\n",
        "  plt.gray()\n",
        "  ax.get_xaxis().set_visible(False)\n",
        "  ax.get_yaxis().set_visible(False)\n",
        "  predicted_digit=np.argmax(y_pred_probs_valid[i])\n",
        "  ax=plt.subplot(2,n,i+1+n)\n",
        "  plt.text(0.5,0.5,str(predicted_digit),fontsize=12,ha=\"center\",va='center')\n",
        "  plt.axis('off')\n",
        "  plt.show()\n",
        "  plt.close()"
      ],
      "metadata": {
        "colab": {
          "base_uri": "https://localhost:8080/",
          "height": 1000
        },
        "id": "hgyEU_sjBxzQ",
        "outputId": "2114abcf-1c81-4466-cf3b-7d405ec50461"
      },
      "execution_count": null,
      "outputs": [
        {
          "output_type": "display_data",
          "data": {
            "text/plain": [
              "<Figure size 2000x400 with 2 Axes>"
            ],
            "image/png": "[encoded data removed]"
          },
          "metadata": {}
        },
        {
          "output_type": "display_data",
          "data": {
            "text/plain": [
              "<Figure size 640x480 with 2 Axes>"
            ],
            "image/png": "[encoded data removed]"
          },
          "metadata": {}
        },
        {
          "output_type": "display_data",
          "data": {
            "text/plain": [
              "<Figure size 640x480 with 2 Axes>"
            ],
            "image/png": "[encoded data removed]"
          },
          "metadata": {}
        },
        {
          "output_type": "display_data",
          "data": {
            "text/plain": [
              "<Figure size 640x480 with 2 Axes>"
            ],
            "image/png": "[encoded data removed]"
          },
          "metadata": {}
        },
        {
          "output_type": "display_data",
          "data": {
            "text/plain": [
              "<Figure size 640x480 with 2 Axes>"
            ],
            "image/png": "[encoded data removed]"
          },
          "metadata": {}
        },
        {
          "output_type": "display_data",
          "data": {
            "text/plain": [
              "<Figure size 640x480 with 2 Axes>"
            ],
            "image/png": "[encoded data removed]"
          },
          "metadata": {}
        },
        {
          "output_type": "display_data",
          "data": {
            "text/plain": [
              "<Figure size 640x480 with 2 Axes>"
            ],
            "image/png": "[encoded data removed]"
          },
          "metadata": {}
        },
        {
          "output_type": "display_data",
          "data": {
            "text/plain": [
              "<Figure size 640x480 with 2 Axes>"
            ],
            "image/png": "[encoded data removed]"
          },
          "metadata": {}
        },
        {
          "output_type": "display_data",
          "data": {
            "text/plain": [
              "<Figure size 640x480 with 2 Axes>"
            ],
            "image/png": "[encoded data removed]"
          },
          "metadata": {}
        },
        {
          "output_type": "display_data",
          "data": {
            "text/plain": [
              "<Figure size 640x480 with 2 Axes>"
            ],
            "image/png": "[encoded data removed]"
          },
          "metadata": {}
        },
        {
          "output_type": "display_data",
          "data": {
            "text/plain": [
              "<Figure size 640x480 with 2 Axes>"
            ],
            "image/png": "[encoded data removed]"
          },
          "metadata": {}
        },
        {
          "output_type": "display_data",
          "data": {
            "text/plain": [
              "<Figure size 640x480 with 2 Axes>"
            ],
            "image/png": "[encoded data removed]"
          },
          "metadata": {}
        },
        {
          "output_type": "display_data",
          "data": {
            "text/plain": [
              "<Figure size 640x480 with 2 Axes>"
            ],
            "image/png": "[encoded data removed]"
          },
          "metadata": {}
        },
        {
          "output_type": "display_data",
          "data": {
            "text/plain": [
              "<Figure size 640x480 with 2 Axes>"
            ],
            "image/png": "[encoded data removed]"
          },
          "metadata": {}
        },
        {
          "output_type": "display_data",
          "data": {
            "text/plain": [
              "<Figure size 640x480 with 2 Axes>"
            ],
            "image/png": "[encoded data removed]"
          },
          "metadata": {}
        },
        {
          "output_type": "display_data",
          "data": {
            "text/plain": [
              "<Figure size 640x480 with 2 Axes>"
            ],
            "image/png": "[encoded data removed]"
          },
          "metadata": {}
        },
        {
          "output_type": "display_data",
          "data": {
            "text/plain": [
              "<Figure size 640x480 with 2 Axes>"
            ],
            "image/png": "[encoded data removed]"
          },
          "metadata": {}
        },
        {
          "output_type": "display_data",
          "data": {
            "text/plain": [
              "<Figure size 640x480 with 2 Axes>"
            ],
            "image/png": "[encoded data removed]"
          },
          "metadata": {}
        },
        {
          "output_type": "display_data",
          "data": {
            "text/plain": [
              "<Figure size 640x480 with 2 Axes>"
            ],
            "image/png": "[encoded data removed]"
          },
          "metadata": {}
        },
        {
          "output_type": "display_data",
          "data": {
            "text/plain": [
              "<Figure size 640x480 with 2 Axes>"
            ],
            "image/png": "[encoded data removed]"
          },
          "metadata": {}
        }
      ]
    }
  ]
}